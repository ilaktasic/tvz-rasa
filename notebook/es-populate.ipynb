{
 "cells": [
  {
   "cell_type": "code",
   "execution_count": null,
   "outputs": [],
   "source": [
    "import requests\n",
    "\n",
    "prof_index = { \n",
    "   \"settings\":{ \n",
    "      \"number_of_shards\":1\n",
    "   },\n",
    "   \"mappings\":{ \n",
    "      \"professor\":{ \n",
    "         \"properties\":{ \n",
    "            \"firstName\":{ \n",
    "               \"type\":\"text\"\n",
    "            },\n",
    "            \"lastName\":{ \n",
    "               \"type\":\"text\"\n",
    "            },\n",
    "            \"consultation\":{ \n",
    "               \"enabled\":False\n",
    "            }\n",
    "         }\n",
    "      }\n",
    "   }\n",
    "}\n",
    "\n",
    "subject_index = { \n",
    "   \"settings\":{ \n",
    "      \"number_of_shards\":1\n",
    "   },\n",
    "   \"mappings\":{ \n",
    "      \"subject\":{ \n",
    "         \"properties\":{ \n",
    "            \"name\":{ \n",
    "               \"type\":\"text\"\n",
    "            },\n",
    "            \"lab\":{ \n",
    "               \"enabled\":False\n",
    "            },\n",
    "            \"exam\":{ \n",
    "               \"enabled\":False\n",
    "            },\n",
    "            \"lecture\":{ \n",
    "               \"enabled\":False\n",
    "            },\n",
    "            \"terms\":{ \n",
    "               \"enabled\":False\n",
    "            }\n",
    "         }\n",
    "      }\n",
    "   }\n",
    "}\n",
    "\n",
    "resp = requests.put(\"http://localhost:9200/professor\", json=prof_index)\n",
    "resp\n",
    "resp = requests.put(\"http://localhost:9200/subject\", json=subject_index)\n",
    "resp\n"
   ],
   "metadata": {
    "collapsed": false,
    "pycharm": {
     "name": "#%%\n"
    }
   }
  },
  {
   "cell_type": "code",
   "execution_count": 15,
   "metadata": {
    "collapsed": true,
    "pycharm": {
     "is_executing": false
    }
   },
   "outputs": [],
   "source": [
    "import csv\n",
    "import random\n",
    "\n",
    "times = [\"8:00\",\"9:00\",\"10:00\",\"11:00\",\"12:00\",\"13:00\",\"14:00\",\"15:00\",\"16:00\",\"17:00\",\"18:00\",\"19:00\",\"20:00\"]\n",
    "days = [\"mon\",\"tue\",\"wed\",\"thu\",\"fri\"]\n",
    "room = [\"soba 123\",\"soba 124\",\"soba 125\",\"soba 126\",\"soba 127\",\"soba 128\",\"soba 129\"]\n",
    "lecture_room = [\"Velika dvorana\", \"Mala dvorana\", \"MSLAb\", \"CCNA\", \"FSB-A\", \"FSB-C\", \"FSB-D\", \"AUDIT-lab\"]\n",
    "\n",
    "with open('professors.csv') as csvfile:\n",
    "    professorsCsv = list(csv.reader(csvfile))\n",
    "\n",
    "proffessors = []\n",
    "\n",
    "for item in professorsCsv:\n",
    "    prof = {\n",
    "        \"firstName\": item[1],\n",
    "        \"lastName\": item[2],\n",
    "        \"consultation\" : {\n",
    "            \"time\": random.choice(times),\n",
    "            \"day\": random.choice(days),\n",
    "            \"location\": random.choice(room)\n",
    "        }\n",
    "    }\n",
    "    response = requests.post(\"http://localhost:9200/professor/professor\", json=prof)\n",
    "    response"
   ]
  },
  {
   "cell_type": "code",
   "execution_count": 16,
   "outputs": [],
   "source": [
    "with open('subjects.csv') as csvfile:\n",
    "    subjectsCsv = list(csv.reader(csvfile))\n",
    "    \n",
    "subjects = []\n",
    "\n",
    "for subject in subjectsCsv:\n",
    "    subj = {\n",
    "        \"name\": subject,\n",
    "        \"lab\":{ \n",
    "            \"time\":random.choice(times),\n",
    "            \"day\":random.choice(days),\n",
    "            \"location\": random.choice(lecture_room)\n",
    "        },\n",
    "        \"exam\":{\n",
    "            \"time\":random.choice(times),\n",
    "            \"date\": \"17.3.\",\n",
    "            \"location\": random.choice(lecture_room)\n",
    "        },\n",
    "        \"lecture\":{ \n",
    "            \"time\":random.choice(times),\n",
    "            \"day\":random.choice(days),\n",
    "            \"location\": random.choice(lecture_room)\n",
    "        },\n",
    "        \"terms\":{ \n",
    "            \"term\": \"50% vježbe 50% kolokvij\"\n",
    "        }\n",
    "    }\n",
    "    response = requests.post(\"http://localhost:9200/subject/subject\", json=subj)\n",
    "    response"
   ],
   "metadata": {
    "collapsed": false,
    "pycharm": {
     "name": "#%%\n",
     "is_executing": false
    }
   }
  },
  {
   "cell_type": "code",
   "execution_count": null,
   "outputs": [],
   "source": [
    "\n",
    "    "
   ],
   "metadata": {
    "collapsed": false,
    "pycharm": {
     "name": "#%%\n"
    }
   }
  }
 ],
 "metadata": {
  "kernelspec": {
   "display_name": "Python 3",
   "language": "python",
   "name": "python3"
  },
  "language_info": {
   "codemirror_mode": {
    "name": "ipython",
    "version": 2
   },
   "file_extension": ".py",
   "mimetype": "text/x-python",
   "name": "python",
   "nbconvert_exporter": "python",
   "pygments_lexer": "ipython2",
   "version": "2.7.6"
  },
  "pycharm": {
   "stem_cell": {
    "cell_type": "raw",
    "source": [],
    "metadata": {
     "collapsed": false
    }
   }
  }
 },
 "nbformat": 4,
 "nbformat_minor": 0
}